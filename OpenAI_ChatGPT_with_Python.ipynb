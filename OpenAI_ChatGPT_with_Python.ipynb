{
  "nbformat": 4,
  "nbformat_minor": 0,
  "metadata": {
    "colab": {
      "provenance": [],
      "authorship_tag": "ABX9TyOMa+NX74G7oCpnoaJHma40",
      "include_colab_link": true
    },
    "kernelspec": {
      "name": "python3",
      "display_name": "Python 3"
    },
    "language_info": {
      "name": "python"
    }
  },
  "cells": [
    {
      "cell_type": "markdown",
      "metadata": {
        "id": "view-in-github",
        "colab_type": "text"
      },
      "source": [
        "<a href=\"https://colab.research.google.com/github/maheshalalapati2/maheshalalapati2/blob/main/OpenAI_ChatGPT_with_Python.ipynb\" target=\"_parent\"><img src=\"https://colab.research.google.com/assets/colab-badge.svg\" alt=\"Open In Colab\"/></a>"
      ]
    },
    {
      "cell_type": "code",
      "execution_count": 10,
      "metadata": {
        "id": "rXZATgHiijUs"
      },
      "outputs": [],
      "source": [
        "!pip install -q pychatGPT"
      ]
    },
    {
      "cell_type": "code",
      "source": [
        "from pyChatGPT import ChatGPT"
      ],
      "metadata": {
        "id": "U8T_f4nnjI5p"
      },
      "execution_count": 4,
      "outputs": []
    },
    {
      "cell_type": "code",
      "source": [
        "!pip install -q pychatGPT\n",
        "from pyChatGPT import ChatGPT\n",
        "from pprint import pprint \n",
        "\n",
        "sessiontoken = \"eyJhbGciOiJkaXIiLCJlbmMiOiJBMjU2R0NNIn0..qIgX2ikFwyF3dlFC.K9SfmgwPi5WARkSDqhLOnXduqMH0KVexH79NUtinX51dlxwFYp9HfS34QdOVrSEsyiLtDzhZ_cQcq2M_gbvRRlHzVnwSbnCWlapx3BTAq5Nc3JrCl2dM7yHIyjynsyVbRN15fNmPedXVKzFdzZw1sBuRMzBOG6juHvIivWSw1khxXSPut1MzxJi0ZEgTfePMAUIwpUNgBGhqP7Jb8d8bQuuFGftwkY3lK-76fz2P0CdzNeivSkpeJHZK10MMbij1mlj2-Lk7tEHrLS-ege39n7Izo2lTv1ZkUuOOHEcQGG_orEKYfl74_PaI24z5LZSnxfmnuQCQL8sdg6QanOg3Kie-G3hqiPa2IbQMbcT_w6Nbsqpq99VZdJaIfhZB6gU8daTx4ELQ_nRnbVeo0eqWVDHzLjsKp4uRxlDddIe7SQHTZXG1AGF1eGmWP75h2Sx7RmUHYM8RMu8NmSU8lZTVjJXQVGu8_3VCZnGhSLBT80MUIeU8hwBD-xB8HoB976uQ6yzaoeFK0pvpD203zLgiBccrRnBZ0FgFb10T3G5WXjIbjSGFVdZVh3-vsjHdcNnW8qhQJhrhfzafgx9PJG2imaDwuWo58O7UF7R2JckQ2wWFWEFfdSSylEPWprjp4WdSnCcRRQh3JQyB4Cc2QRE79BnA4B6HJoUqDoAWv5DAzFMY8Ybe06ahbbytADB_ZQfN56h0hfFVelYPK4X1bH3OqbZ0xY20OTnrI4tmPqZpRwDUCWpPueJZG79vBqYLYQKGZ45U8t9JAa0V02AYmwxsbJncw3bot7aAGRswJx1qTXWz_DJrnjC34Er99ONFJimavoS3Sxo7N9hZBNpVoxeU0XWaYsBqE-jaRBVO7DqTZUgodT8NKWF1DfQlOF1qztle3a0GUuve10LOBAXd5IHmWE2fEAE2O9veAtr9VKe8xXCmRxZCmAaapWozhdRNr62xRTRxqOrXd5WSQfufK-K1zaOMOS__jHfAohd0Hvf32b7C4f88QO0eecPL_XdS8nq7lfAL3xf2C04cvRRDFHklQ7f3dT6q8owMCSk2ZjukmxCGk-3UN3iMdlsiUKbZgdVdPeEvOQpI4CjKFusGJ4LRLeN3HpBMjCDHQbwQihWDp1JROz2g4-4D9mBsLe_CryFtijtI679_KCqd9MuJgPphU91kkGB8vAUZNgu8w63qrN51e-ay34or_zgnBi0a8CbKQXmS1a5GL3zyKxZnjetFmHJ_3wJLwcrku_m8NB967GtC7trqkqRrsGm_eA_cFcZ8asnfhcVyCzCYn0zPAe5DXgzILzSYUOgg_MYSVxaL847gjxZIVqGfQlMYCjfYck7hU_kgA68C6C0Ky7u59Nv0DZBcg0DHDSsUosVRV9Wn_yYsXmLc_nmxncXTbXLeOJvKA3LqYXUzGyfYLON64Uf3h0MZLyINMNIrDOadZGnu-sAbDss3MjIhXVxsS2BtZpY4sooL4MQZar1YFCsP5G6BCiPgEbcqWIXVqUjzdDEIjRL59pbcxGZU9eIYSmQwfQVh5ko6yr8_cmaJmn0cqr24oNSCibbkWSxsq4rBfhaRjjCCV9CVHaMi0hCMs9ifd4JRRxeKwow_snAkzwaq769L1qjXO51dmGpj2AAoJxR15UvZuXWtqWivxPBjUOjgTIBY_fah2n5wmYehT2mneh-ywNuuqu-N8Bnt5EBZKUE5Ev835X94qMeMEIcDvvxdiNaRda07uk4EjUmXKzLvT6w8zvVF3tXbtWFDd1MIScGDQ3MaXH6CCwIQbS9BI0mZx8pPqzsisye21F9XlBf4Qtw4TfOjz9bSDc4JFVI_8CfC3drqnbRFYnbUHZvi5DEZ_l7OsMDmeYEF6EP7LKh8mudxhPvrS4OVseWwFo4BqamzhlCI8cCUWJyzx4ii-jqfPhhLNJWmhLvEsyaSORKWDaWMsVhdHFQOWHeuE4UtDEypJJMhvOZhkNobUFFLIHC9G6pseUiFmy_MTFz7-uqGs10DbZdENLFDMQ7Rmm-cxUSxZy646sidtSb29_RpgkcmWs0zEFaxnFEOfc-6uAP5nwCGtO91VExG5biEBRTXvFqPFfYNhIlQmrjJAxF5DDz7OMlysIpR7AthYMcyqo_B7DH5IKDG7vY3mucd6soqsCS3mnY4owUemnjCfoX_eEspZTxxhOzZmWxxrQyp7S9-o1V8esKeJeZ_VlTu12xynpVChXd4OwoFxVr69O7YKpbAL4mDotET0aFmHRAaT6EUPkM58DELVY8-TcoERgVqlwNzukqaYmxzbp6cx7EclmKN4TJWEAk0-lcI3_-dwbxg0jyj9PC4N3UaFtzpZ-Ly9kQDrchBarEVvgz0DZPt-u4z2Tsbf1XI.ZaHcD7YUzeUYYbMqpVPWSw\"\n",
        "api = ChatGPT(sessiontoken)\n",
        "response = api.send_message('Explain supply chain analytics in layman terms')\n",
        "\n",
        "\n",
        "pprint(response[\"message\"])\n",
        "\n",
        "response = api.send_message('Explain principal component analysis concept in layman terms')\n",
        "pprint(response[\"message\"])\n"
      ],
      "metadata": {
        "colab": {
          "base_uri": "https://localhost:8080/"
        },
        "id": "kU8vMQ52kAyp",
        "outputId": "a114503c-8215-4aa0-d922-47eaed207e86"
      },
      "execution_count": 13,
      "outputs": [
        {
          "output_type": "stream",
          "name": "stdout",
          "text": [
            "('Supply chain analytics is the use of data and analytics to improve the '\n",
            " \"efficiency of a company's supply chain. This can involve analyzing data on \"\n",
            " 'the movement of goods and materials, as well as other factors that affect '\n",
            " 'the supply chain, such as inventory levels and delivery times. The goal of '\n",
            " 'supply chain analytics is to identify areas where the supply chain can be '\n",
            " 'made more efficient, which can help a company save money and improve its '\n",
            " 'competitive advantage. For example, a company might use supply chain '\n",
            " 'analytics to identify bottlenecks in its production process, or to determine '\n",
            " 'the most cost-effective way to transport goods to customers.')\n",
            "('Principal component analysis (PCA) is a statistical technique that is used '\n",
            " 'to reduce the dimensionality of a dataset. This means that it is used to '\n",
            " 'identify the underlying patterns in a dataset and to summarize the data in a '\n",
            " 'way that makes it easier to understand and analyze. \\n'\n",
            " '\\n'\n",
            " 'To understand how PCA works, imagine that you have a dataset with many '\n",
            " 'different variables, such as the height, weight, and age of a group of '\n",
            " 'people. These variables are likely to be correlated with each other, meaning '\n",
            " 'that people who are taller are also likely to be heavier, and people who are '\n",
            " 'older are likely to be taller and heavier. PCA is a way of finding the '\n",
            " 'underlying patterns in these correlations, and representing the data in a '\n",
            " 'way that captures the most important information while reducing the '\n",
            " 'complexity of the dataset.\\n'\n",
            " '\\n'\n",
            " 'In practice, PCA works by finding the directions in the data that explain '\n",
            " 'the most variance, and then representing the data in a new coordinate system '\n",
            " 'that is aligned with these directions. This new coordinate system is called '\n",
            " 'the \"principal components\" of the data, and they capture the most important '\n",
            " 'information in the dataset. By using PCA, you can reduce the dimensionality '\n",
            " 'of the data, making it easier to understand and analyze.')\n"
          ]
        }
      ]
    }
  ]
}